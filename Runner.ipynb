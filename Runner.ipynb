{
 "cells": [
  {
   "cell_type": "code",
   "execution_count": 1,
   "id": "335424bf-efe8-44e9-ba88-18c71dfd9bd4",
   "metadata": {},
   "outputs": [],
   "source": [
    "import yaml\n",
    "from sipp import *\n",
    "from utils import *"
   ]
  },
  {
   "cell_type": "markdown",
   "id": "8de95e3c-264d-4f31-bf74-4b2c5900e447",
   "metadata": {},
   "source": [
    "# Single example"
   ]
  },
  {
   "cell_type": "code",
   "execution_count": 2,
   "id": "f4a7037c-b929-4db0-97b0-a02f74119a75",
   "metadata": {},
   "outputs": [
    {
     "name": "stdout",
     "output_type": "stream",
     "text": [
      "Plan successfully calculated!!\n",
      "Plan successfully calculated!!\n",
      "{'schedule': {'agent0': [{'x': 0, 'y': 0, 't': 0}, {'x': 1, 'y': 0, 't': 1}, {'x': 1, 'y': 1, 't': 2}, {'x': 1, 'y': 2, 't': 3}, {'x': 0, 'y': 2, 't': 4}], 'agent1': [{'x': 2, 'y': 0, 't': 0}, {'x': 2, 'y': 0, 't': 1}, {'x': 1, 'y': 0, 't': 2}, {'x': 1, 'y': 1, 't': 3}, {'x': 1, 'y': 2, 't': 4}, {'x': 2, 'y': 2, 't': 5}]}}\n"
     ]
    }
   ],
   "source": [
    "with open('./inputs/input0.yaml', 'r') as map_file:\n",
    "    try:\n",
    "        map = yaml.load(map_file, Loader=yaml.FullLoader)\n",
    "    except yaml.YAMLError as exc:\n",
    "        print(exc)\n",
    "\n",
    "# Output file\n",
    "output = dict()\n",
    "output[\"schedule\"] = dict()\n",
    "\n",
    "for i in range(len(map[\"agents\"])):\n",
    "    sipp_planner = Planner(map,i)\n",
    "\n",
    "    if sipp_planner.compute_plan():\n",
    "        plan = sipp_planner.get_plan()\n",
    "        output[\"schedule\"].update(plan)\n",
    "        map[\"dynamic_obstacles\"].update(plan)\n",
    "    else: \n",
    "        print(\"Plan not found\")\n",
    "\n",
    "print(output)"
   ]
  },
  {
   "cell_type": "markdown",
   "id": "ab16687b-00c6-42bb-8964-eb44098274f4",
   "metadata": {},
   "source": [
    "# Multiple inputs"
   ]
  },
  {
   "cell_type": "code",
   "execution_count": null,
   "id": "25066298-0523-413f-904f-00e84a7c76fa",
   "metadata": {},
   "outputs": [
    {
     "name": "stdout",
     "output_type": "stream",
     "text": [
      "0\n",
      "Plan successfully calculated!!\n",
      "Plan successfully calculated!!\n",
      "{'schedule': {'agent0': [{'x': 0, 'y': 0, 't': 0}, {'x': 1, 'y': 0, 't': 1}, {'x': 1, 'y': 1, 't': 2}, {'x': 1, 'y': 2, 't': 3}, {'x': 0, 'y': 2, 't': 4}], 'agent1': [{'x': 2, 'y': 0, 't': 0}, {'x': 2, 'y': 0, 't': 1}, {'x': 1, 'y': 0, 't': 2}, {'x': 1, 'y': 1, 't': 3}, {'x': 1, 'y': 2, 't': 4}, {'x': 2, 'y': 2, 't': 5}]}}\n"
     ]
    },
    {
     "name": "stderr",
     "output_type": "stream",
     "text": [
      "MovieWriter ffmpeg unavailable; using Pillow instead.\n",
      "MovieWriter ffmpeg unavailable; using Pillow instead.\n"
     ]
    },
    {
     "name": "stdout",
     "output_type": "stream",
     "text": [
      "1\n",
      "Plan successfully calculated!!\n",
      "Plan successfully calculated!!\n",
      "{'schedule': {'agent0': [{'x': 0, 'y': 0, 't': 0}, {'x': 1, 'y': 0, 't': 1}, {'x': 1, 'y': 1, 't': 2}, {'x': 1, 'y': 2, 't': 3}, {'x': 2, 'y': 2, 't': 4}], 'agent1': [{'x': 2, 'y': 2, 't': 0}, {'x': 1, 'y': 2, 't': 1}, {'x': 1, 'y': 2, 't': 2}, {'x': 1, 'y': 1, 't': 3}, {'x': 1, 'y': 0, 't': 4}, {'x': 0, 'y': 0, 't': 5}]}}\n",
      "COLLISION! (agent-agent) (0, 1)\n",
      "COLLISION! (agent-agent) (0, 1)\n",
      "COLLISION! (agent-agent) (0, 1)\n",
      "COLLISION! (agent-agent) (0, 1)\n",
      "COLLISION! (agent-agent) (0, 1)\n",
      "COLLISION! (agent-agent) (0, 1)\n",
      "COLLISION! (agent-agent) (0, 1)\n"
     ]
    },
    {
     "name": "stderr",
     "output_type": "stream",
     "text": [
      "MovieWriter ffmpeg unavailable; using Pillow instead.\n"
     ]
    },
    {
     "name": "stdout",
     "output_type": "stream",
     "text": [
      "2\n",
      "Plan successfully calculated!!\n",
      "Plan successfully calculated!!\n",
      "{'schedule': {'agent0': [{'x': 0, 'y': 0, 't': 0}, {'x': 1, 'y': 0, 't': 1}, {'x': 1, 'y': 1, 't': 2}, {'x': 1, 'y': 2, 't': 3}, {'x': 0, 'y': 2, 't': 4}], 'agent1': [{'x': 2, 'y': 0, 't': 0}, {'x': 2, 'y': 0, 't': 1}, {'x': 1, 'y': 0, 't': 2}, {'x': 1, 'y': 1, 't': 3}, {'x': 1, 'y': 2, 't': 4}, {'x': 2, 'y': 2, 't': 5}]}}\n",
      "3\n",
      "Plan successfully calculated!!\n",
      "Plan successfully calculated!!\n",
      "Plan successfully calculated!!\n",
      "Plan successfully calculated!!\n",
      "Plan successfully calculated!!\n",
      "{'schedule': {'agent0': [{'x': 0, 'y': 7, 't': 0}, {'x': 0, 'y': 6, 't': 1}, {'x': 0, 'y': 5, 't': 2}, {'x': 0, 'y': 4, 't': 3}, {'x': 1, 'y': 4, 't': 4}, {'x': 2, 'y': 4, 't': 5}, {'x': 2, 'y': 3, 't': 6}, {'x': 2, 'y': 2, 't': 7}], 'agent1': [{'x': 3, 'y': 4, 't': 0}, {'x': 2, 'y': 4, 't': 1}, {'x': 1, 'y': 4, 't': 2}, {'x': 1, 'y': 5, 't': 3}, {'x': 1, 'y': 6, 't': 4}, {'x': 1, 'y': 7, 't': 5}, {'x': 1, 'y': 8, 't': 6}, {'x': 0, 'y': 8, 't': 7}], 'agent2': [{'x': 1, 'y': 5, 't': 0}, {'x': 1, 'y': 6, 't': 1}, {'x': 1, 'y': 7, 't': 2}, {'x': 2, 'y': 7, 't': 3}, {'x': 3, 'y': 7, 't': 4}, {'x': 4, 'y': 7, 't': 5}, {'x': 4, 'y': 6, 't': 6}, {'x': 4, 'y': 5, 't': 7}, {'x': 5, 'y': 5, 't': 8}, {'x': 6, 'y': 5, 't': 9}, {'x': 7, 'y': 5, 't': 10}, {'x': 8, 'y': 5, 't': 11}], 'agent3': [{'x': 2, 'y': 0, 't': 0}, {'x': 3, 'y': 0, 't': 1}, {'x': 3, 'y': 1, 't': 2}, {'x': 3, 'y': 2, 't': 3}, {'x': 4, 'y': 2, 't': 4}, {'x': 4, 'y': 3, 't': 5}, {'x': 5, 'y': 3, 't': 6}, {'x': 5, 'y': 4, 't': 7}, {'x': 5, 'y': 4, 't': 8}, {'x': 5, 'y': 5, 't': 9}, {'x': 5, 'y': 6, 't': 10}, {'x': 5, 'y': 7, 't': 11}, {'x': 6, 'y': 7, 't': 12}], 'agent4': [{'x': 8, 'y': 3, 't': 0}, {'x': 8, 'y': 4, 't': 1}, {'x': 8, 'y': 5, 't': 2}, {'x': 7, 'y': 5, 't': 3}, {'x': 7, 'y': 6, 't': 4}, {'x': 6, 'y': 6, 't': 5}, {'x': 6, 'y': 7, 't': 6}, {'x': 5, 'y': 7, 't': 7}, {'x': 5, 'y': 8, 't': 8}]}}\n"
     ]
    },
    {
     "name": "stderr",
     "output_type": "stream",
     "text": [
      "MovieWriter ffmpeg unavailable; using Pillow instead.\n"
     ]
    },
    {
     "name": "stdout",
     "output_type": "stream",
     "text": [
      "4\n",
      "Plan successfully calculated!!\n",
      "Plan successfully calculated!!\n",
      "Plan successfully calculated!!\n",
      "Plan successfully calculated!!\n",
      "Plan successfully calculated!!\n",
      "{'schedule': {'agent0': [{'x': 3, 'y': 7, 't': 0}, {'x': 2, 'y': 7, 't': 1}, {'x': 1, 'y': 7, 't': 2}, {'x': 1, 'y': 6, 't': 3}, {'x': 1, 'y': 5, 't': 4}, {'x': 1, 'y': 4, 't': 5}, {'x': 2, 'y': 4, 't': 6}, {'x': 2, 'y': 3, 't': 7}, {'x': 2, 'y': 2, 't': 8}], 'agent1': [{'x': 3, 'y': 4, 't': 0}, {'x': 2, 'y': 4, 't': 1}, {'x': 1, 'y': 4, 't': 2}, {'x': 1, 'y': 5, 't': 3}, {'x': 1, 'y': 6, 't': 4}, {'x': 1, 'y': 7, 't': 5}, {'x': 1, 'y': 8, 't': 6}, {'x': 0, 'y': 8, 't': 7}], 'agent2': [{'x': 0, 'y': 5, 't': 0}, {'x': 0, 'y': 6, 't': 1}, {'x': 0, 'y': 7, 't': 2}, {'x': 1, 'y': 7, 't': 3}, {'x': 2, 'y': 7, 't': 4}, {'x': 3, 'y': 7, 't': 5}, {'x': 4, 'y': 7, 't': 6}, {'x': 4, 'y': 6, 't': 7}, {'x': 4, 'y': 5, 't': 8}, {'x': 5, 'y': 5, 't': 9}, {'x': 6, 'y': 5, 't': 10}, {'x': 7, 'y': 5, 't': 11}, {'x': 8, 'y': 5, 't': 12}], 'agent3': [{'x': 2, 'y': 0, 't': 0}, {'x': 3, 'y': 0, 't': 1}, {'x': 3, 'y': 1, 't': 2}, {'x': 3, 'y': 2, 't': 3}, {'x': 4, 'y': 2, 't': 4}, {'x': 4, 'y': 3, 't': 5}, {'x': 5, 'y': 3, 't': 6}, {'x': 5, 'y': 4, 't': 7}, {'x': 5, 'y': 5, 't': 8}, {'x': 5, 'y': 6, 't': 9}, {'x': 5, 'y': 7, 't': 10}, {'x': 6, 'y': 7, 't': 11}], 'agent4': [{'x': 8, 'y': 0, 't': 0}, {'x': 8, 'y': 1, 't': 1}, {'x': 8, 'y': 2, 't': 2}, {'x': 8, 'y': 3, 't': 3}, {'x': 8, 'y': 4, 't': 4}, {'x': 8, 'y': 5, 't': 5}, {'x': 7, 'y': 5, 't': 6}, {'x': 7, 'y': 6, 't': 7}, {'x': 6, 'y': 6, 't': 8}, {'x': 6, 'y': 7, 't': 9}, {'x': 6, 'y': 8, 't': 10}, {'x': 5, 'y': 8, 't': 11}]}}\n"
     ]
    },
    {
     "name": "stderr",
     "output_type": "stream",
     "text": [
      "MovieWriter ffmpeg unavailable; using Pillow instead.\n"
     ]
    },
    {
     "name": "stdout",
     "output_type": "stream",
     "text": [
      "COLLISION! (agent-agent) (0, 1)\n",
      "COLLISION! (agent-agent) (0, 1)\n",
      "COLLISION! (agent-agent) (0, 1)\n",
      "COLLISION! (agent-agent) (0, 1)\n",
      "COLLISION! (agent-agent) (0, 1)\n",
      "COLLISION! (agent-agent) (0, 1)\n",
      "COLLISION! (agent-agent) (0, 1)\n",
      "5\n",
      "Plan successfully calculated!!\n",
      "Plan successfully calculated!!\n",
      "Plan successfully calculated!!\n",
      "Plan successfully calculated!!\n",
      "Plan successfully calculated!!\n",
      "{'schedule': {'agent0': [{'x': 0, 'y': 7, 't': 0}, {'x': 0, 'y': 6, 't': 1}, {'x': 0, 'y': 5, 't': 2}, {'x': 0, 'y': 4, 't': 3}, {'x': 1, 'y': 4, 't': 4}, {'x': 2, 'y': 4, 't': 5}, {'x': 2, 'y': 3, 't': 6}, {'x': 2, 'y': 2, 't': 7}], 'agent1': [{'x': 3, 'y': 4, 't': 0}, {'x': 2, 'y': 4, 't': 1}, {'x': 1, 'y': 4, 't': 2}, {'x': 1, 'y': 5, 't': 3}, {'x': 1, 'y': 6, 't': 4}, {'x': 1, 'y': 7, 't': 5}, {'x': 1, 'y': 8, 't': 6}, {'x': 0, 'y': 8, 't': 7}], 'agent2': [{'x': 0, 'y': 5, 't': 0}, {'x': 0, 'y': 5, 't': 1}, {'x': 0, 'y': 6, 't': 2}, {'x': 0, 'y': 7, 't': 3}, {'x': 1, 'y': 7, 't': 4}, {'x': 2, 'y': 7, 't': 5}, {'x': 3, 'y': 7, 't': 6}, {'x': 4, 'y': 7, 't': 7}, {'x': 4, 'y': 6, 't': 8}, {'x': 4, 'y': 5, 't': 9}, {'x': 5, 'y': 5, 't': 10}, {'x': 6, 'y': 5, 't': 11}, {'x': 7, 'y': 5, 't': 12}, {'x': 8, 'y': 5, 't': 13}], 'agent3': [{'x': 2, 'y': 0, 't': 0}, {'x': 3, 'y': 0, 't': 1}, {'x': 3, 'y': 1, 't': 2}, {'x': 3, 'y': 2, 't': 3}, {'x': 4, 'y': 2, 't': 4}, {'x': 4, 'y': 3, 't': 5}, {'x': 5, 'y': 3, 't': 6}, {'x': 5, 'y': 4, 't': 7}, {'x': 5, 'y': 5, 't': 8}, {'x': 5, 'y': 6, 't': 9}, {'x': 5, 'y': 7, 't': 10}, {'x': 6, 'y': 7, 't': 11}], 'agent4': [{'x': 8, 'y': 0, 't': 0}, {'x': 8, 'y': 1, 't': 1}, {'x': 8, 'y': 2, 't': 2}, {'x': 8, 'y': 3, 't': 3}, {'x': 8, 'y': 4, 't': 4}, {'x': 8, 'y': 5, 't': 5}, {'x': 7, 'y': 5, 't': 6}, {'x': 7, 'y': 6, 't': 7}, {'x': 6, 'y': 6, 't': 8}, {'x': 6, 'y': 7, 't': 9}, {'x': 6, 'y': 8, 't': 10}, {'x': 5, 'y': 8, 't': 11}]}}\n"
     ]
    },
    {
     "name": "stderr",
     "output_type": "stream",
     "text": [
      "MovieWriter ffmpeg unavailable; using Pillow instead.\n"
     ]
    },
    {
     "name": "stdout",
     "output_type": "stream",
     "text": [
      "COLLISION! (agent-agent) (0, 2)\n",
      "COLLISION! (agent-agent) (0, 2)\n",
      "COLLISION! (agent-agent) (0, 2)\n",
      "COLLISION! (agent-agent) (0, 2)\n",
      "COLLISION! (agent-agent) (0, 2)\n",
      "COLLISION! (agent-agent) (0, 2)\n",
      "COLLISION! (agent-agent) (0, 2)\n",
      "6\n",
      "Plan successfully calculated!!\n",
      "Plan successfully calculated!!\n",
      "Plan successfully calculated!!\n",
      "Plan successfully calculated!!\n",
      "Plan successfully calculated!!\n",
      "{'schedule': {'agent0': [{'x': 0, 'y': 7, 't': 0}, {'x': 0, 'y': 6, 't': 1}, {'x': 0, 'y': 5, 't': 2}, {'x': 0, 'y': 4, 't': 3}, {'x': 1, 'y': 4, 't': 4}, {'x': 2, 'y': 4, 't': 5}, {'x': 2, 'y': 3, 't': 6}, {'x': 2, 'y': 2, 't': 7}], 'agent1': [{'x': 3, 'y': 4, 't': 0}, {'x': 2, 'y': 4, 't': 1}, {'x': 1, 'y': 4, 't': 2}, {'x': 1, 'y': 5, 't': 3}, {'x': 1, 'y': 6, 't': 4}, {'x': 1, 'y': 7, 't': 5}, {'x': 1, 'y': 8, 't': 6}, {'x': 0, 'y': 8, 't': 7}], 'agent2': [{'x': 1, 'y': 5, 't': 0}, {'x': 1, 'y': 6, 't': 1}, {'x': 1, 'y': 7, 't': 2}, {'x': 2, 'y': 7, 't': 3}, {'x': 3, 'y': 7, 't': 4}, {'x': 4, 'y': 7, 't': 5}, {'x': 4, 'y': 6, 't': 6}, {'x': 4, 'y': 5, 't': 7}, {'x': 5, 'y': 5, 't': 8}, {'x': 6, 'y': 5, 't': 9}, {'x': 7, 'y': 5, 't': 10}, {'x': 8, 'y': 5, 't': 11}], 'agent3': [{'x': 2, 'y': 0, 't': 0}, {'x': 3, 'y': 0, 't': 1}, {'x': 3, 'y': 1, 't': 2}, {'x': 3, 'y': 2, 't': 3}, {'x': 4, 'y': 2, 't': 4}, {'x': 4, 'y': 3, 't': 5}, {'x': 5, 'y': 3, 't': 6}, {'x': 5, 'y': 4, 't': 7}, {'x': 5, 'y': 4, 't': 8}, {'x': 5, 'y': 5, 't': 9}, {'x': 5, 'y': 6, 't': 10}, {'x': 5, 'y': 7, 't': 11}, {'x': 6, 'y': 7, 't': 12}], 'agent4': [{'x': 8, 'y': 0, 't': 0}, {'x': 8, 'y': 1, 't': 1}, {'x': 8, 'y': 2, 't': 2}, {'x': 8, 'y': 3, 't': 3}, {'x': 8, 'y': 4, 't': 4}, {'x': 8, 'y': 5, 't': 5}, {'x': 7, 'y': 5, 't': 6}, {'x': 7, 'y': 6, 't': 7}, {'x': 6, 'y': 6, 't': 8}, {'x': 6, 'y': 7, 't': 9}, {'x': 6, 'y': 8, 't': 10}, {'x': 5, 'y': 8, 't': 11}]}}\n"
     ]
    },
    {
     "name": "stderr",
     "output_type": "stream",
     "text": [
      "MovieWriter ffmpeg unavailable; using Pillow instead.\n"
     ]
    },
    {
     "name": "stdout",
     "output_type": "stream",
     "text": [
      "7\n",
      "Plan successfully calculated!!\n",
      "Plan successfully calculated!!\n",
      "Plan successfully calculated!!\n",
      "Plan successfully calculated!!\n",
      "Plan successfully calculated!!\n",
      "{'schedule': {'agent0': [{'x': 3, 'y': 7, 't': 0}, {'x': 2, 'y': 7, 't': 1}, {'x': 1, 'y': 7, 't': 2}, {'x': 1, 'y': 6, 't': 3}, {'x': 1, 'y': 5, 't': 4}, {'x': 1, 'y': 4, 't': 5}, {'x': 2, 'y': 4, 't': 6}, {'x': 2, 'y': 3, 't': 7}, {'x': 2, 'y': 2, 't': 8}], 'agent1': [{'x': 3, 'y': 4, 't': 0}, {'x': 2, 'y': 4, 't': 1}, {'x': 1, 'y': 4, 't': 2}, {'x': 1, 'y': 5, 't': 3}, {'x': 1, 'y': 6, 't': 4}, {'x': 1, 'y': 7, 't': 5}, {'x': 1, 'y': 8, 't': 6}, {'x': 0, 'y': 8, 't': 7}], 'agent2': [{'x': 1, 'y': 5, 't': 0}, {'x': 1, 'y': 6, 't': 1}, {'x': 1, 'y': 6, 't': 2}, {'x': 1, 'y': 7, 't': 3}, {'x': 2, 'y': 7, 't': 4}, {'x': 3, 'y': 7, 't': 5}, {'x': 4, 'y': 7, 't': 6}, {'x': 4, 'y': 6, 't': 7}, {'x': 4, 'y': 5, 't': 8}, {'x': 5, 'y': 5, 't': 9}, {'x': 6, 'y': 5, 't': 10}, {'x': 7, 'y': 5, 't': 11}, {'x': 8, 'y': 5, 't': 12}], 'agent3': [{'x': 2, 'y': 0, 't': 0}, {'x': 3, 'y': 0, 't': 1}, {'x': 3, 'y': 1, 't': 2}, {'x': 3, 'y': 2, 't': 3}, {'x': 4, 'y': 2, 't': 4}, {'x': 4, 'y': 3, 't': 5}, {'x': 5, 'y': 3, 't': 6}, {'x': 5, 'y': 4, 't': 7}, {'x': 5, 'y': 5, 't': 8}, {'x': 5, 'y': 6, 't': 9}, {'x': 5, 'y': 7, 't': 10}, {'x': 6, 'y': 7, 't': 11}], 'agent4': [{'x': 8, 'y': 0, 't': 0}, {'x': 8, 'y': 1, 't': 1}, {'x': 8, 'y': 2, 't': 2}, {'x': 8, 'y': 3, 't': 3}, {'x': 8, 'y': 4, 't': 4}, {'x': 8, 'y': 5, 't': 5}, {'x': 7, 'y': 5, 't': 6}, {'x': 7, 'y': 6, 't': 7}, {'x': 6, 'y': 6, 't': 8}, {'x': 6, 'y': 7, 't': 9}, {'x': 6, 'y': 8, 't': 10}, {'x': 5, 'y': 8, 't': 11}]}}\n"
     ]
    },
    {
     "name": "stderr",
     "output_type": "stream",
     "text": [
      "MovieWriter ffmpeg unavailable; using Pillow instead.\n"
     ]
    }
   ],
   "source": [
    "for i in range(8):\n",
    "    \n",
    "    print(i)\n",
    "    with open('./inputs/input'+str(i)+'.yaml', 'r') as map_file:\n",
    "        try:\n",
    "            map = yaml.load(map_file, Loader=yaml.FullLoader)\n",
    "        except yaml.YAMLError as exc:\n",
    "            print(exc)\n",
    "\n",
    "    # Output file\n",
    "    output = dict()\n",
    "    output[\"schedule\"] = dict()\n",
    "\n",
    "    for j in range(len(map[\"agents\"])):\n",
    "        sipp_planner = Planner(map,j)\n",
    "\n",
    "        if sipp_planner.compute_plan():\n",
    "            plan = sipp_planner.get_plan()\n",
    "            output[\"schedule\"].update(plan)\n",
    "            map[\"dynamic_obstacles\"].update(plan)\n",
    "        else: \n",
    "            print(\"Plan not found\")\n",
    "\n",
    "    print(output)\n",
    "\n",
    "    animation = Animation(map, output)\n",
    "    animation.save('./outputs/sipp'+str(i)+'.gif', 1)"
   ]
  },
  {
   "cell_type": "code",
   "execution_count": null,
   "id": "e305de5e-acd0-4235-8cad-de9f0a3d32fe",
   "metadata": {},
   "outputs": [],
   "source": []
  }
 ],
 "metadata": {
  "kernelspec": {
   "display_name": "Python 3",
   "language": "python",
   "name": "python3"
  },
  "language_info": {
   "codemirror_mode": {
    "name": "ipython",
    "version": 3
   },
   "file_extension": ".py",
   "mimetype": "text/x-python",
   "name": "python",
   "nbconvert_exporter": "python",
   "pygments_lexer": "ipython3",
   "version": "3.8.1"
  }
 },
 "nbformat": 4,
 "nbformat_minor": 5
}
